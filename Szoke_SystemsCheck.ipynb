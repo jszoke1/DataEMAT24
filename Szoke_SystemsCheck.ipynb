{
 "cells": [
  {
   "cell_type": "markdown",
   "id": "a370719c-2a91-4c38-9d7e-480326aa3f4d",
   "metadata": {},
   "source": [
    "# Systems Check\n",
    "## Jon Szoke\n",
    "### 8/22/24\n",
    "\n",
    "In this class, I want to learn how to code in __python__ at a base level. I want to:\n",
    "1. Get an _A_\n",
    "2. Have projects I'm _proud_ _of_\n",
    "3. Meet __more__ people\n",
    "\n",
    "I know some:\n",
    "- c++\n",
    "- JavaScript\n",
    "- HTML\n",
    "\n",
    "![aplus](https://cliparts101.com/files/256/64D429C6BA75941D1FB8D069C0EA3D2C/A.png)\n"
   ]
  }
 ],
 "metadata": {
  "kernelspec": {
   "display_name": "Python 3 (ipykernel)",
   "language": "python",
   "name": "python3"
  },
  "language_info": {
   "codemirror_mode": {
    "name": "ipython",
    "version": 3
   },
   "file_extension": ".py",
   "mimetype": "text/x-python",
   "name": "python",
   "nbconvert_exporter": "python",
   "pygments_lexer": "ipython3",
   "version": "3.12.4"
  }
 },
 "nbformat": 4,
 "nbformat_minor": 5
}
