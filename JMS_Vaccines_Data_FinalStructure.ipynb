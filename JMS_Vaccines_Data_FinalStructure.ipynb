{
 "cells": [
  {
   "cell_type": "markdown",
   "id": "d433ecba-1356-4178-b9ff-d703efde56cd",
   "metadata": {},
   "source": [
    "Jonathan Szoke\n",
    "11/12/2024\n",
    "Data In Emerging Media and Technology\n",
    "\n",
    "Hypothesis: Since the beginning of COVID-19, there have been an increased turnout for vaccines than before COVID-19\n",
    "\n",
    "Since I have a more recent background in public health and health technologies, I have always wondered how life truly compared before and after the COVID-19 pandemic from a scholarly point-of-view. Hence, the driving hypthesis for this data report where I looked at how different vaccines faired during their respective years and how these vaccines changed post pandemic. \n",
    "\n",
    "The idea behind most vaccinations is the tactic called 'herd mentality'. This tactic is when the majority of the population is immune to a disease so that the minority have a higher chance of not contracting the disease. Through vaccinations, the idea is that the more people that get the vaccination, the better off our population will fair and I believe that this data will show that more people realize this tactic and had been getting more vaccines outside of just the COVID-19 vaccine. "
   ]
  },
  {
   "cell_type": "code",
   "execution_count": 1,
   "id": "988dc6c6-f20d-48cd-b892-1ba34262746b",
   "metadata": {},
   "outputs": [],
   "source": [
    "from matplotlib import pyplot as plt\n",
    "import pandas as pd"
   ]
  },
  {
   "cell_type": "markdown",
   "id": "959ba69f-5ff4-4929-97b1-704a99bc7270",
   "metadata": {},
   "source": [
    "Imports every library needed"
   ]
  },
  {
   "cell_type": "code",
   "execution_count": 2,
   "id": "f8173d61-5fca-4b05-8435-9fe809ec1db3",
   "metadata": {},
   "outputs": [],
   "source": [
    "vax16 = pd.read_csv('2016VAERSVAX.csv')\n",
    "vax20 = pd.read_csv('2020VAERSVAX.csv')"
   ]
  },
  {
   "cell_type": "markdown",
   "id": "4b4eb823-4c2f-40c1-b094-c9a2bede1af3",
   "metadata": {},
   "source": [
    "Takes the csv files directly from the VAERS, the Vaccine Adverse Event Reporting System, database which is co-operated by the CDC and assigns them to variables that can be easily used for later in the program. //\n",
    "The csv files themselves were posted for download on their website following this link 'https://vaers.hhs.gov/data/datasets.html' where each file was listed out by year. //\n",
    "Finding good data to test my hypthesis was a bit difficult since I was only looking for data posted by a '.gov' source. This way, I knew that the data would be more reliable than just pulling it from a random website. Choosing to use the 2016 data gives enough time prior to the COVID-19 outbreak to get accurate data while the 2020 data gives data right in the heart of the pandemic."
   ]
  },
  {
   "cell_type": "code",
   "execution_count": 3,
   "id": "8fc2e37f-6b8e-4355-b649-e7377acd4e9e",
   "metadata": {},
   "outputs": [],
   "source": [
    "vaxdf = pd.DataFrame(vax16['VAX_TYPE'])\n",
    "\n",
    "#vaxdf (This prints out the whole 2016 dataframe)"
   ]
  },
  {
   "cell_type": "markdown",
   "id": "1948a407-71d9-42e0-a26c-be84da4ae1c6",
   "metadata": {},
   "source": [
    "Takes the data from the 2016 csv file and turns it into a data frame with all of the vax_types"
   ]
  },
  {
   "cell_type": "code",
   "execution_count": 4,
   "id": "db8d9eb6-2a3e-4675-8a7d-ed4bcfb921fc",
   "metadata": {},
   "outputs": [],
   "source": [
    "vaxdf2 = pd.DataFrame(vax20['VAX_TYPE'])\n",
    "\n",
    "#vaxdf2 (This prints out the whole 2020 dataframe)"
   ]
  },
  {
   "cell_type": "markdown",
   "id": "17c899ee-42e5-404f-80c9-0305c343abe5",
   "metadata": {},
   "source": [
    "Takes the data from the 2020 csv file and turns it into a data frame with all of the vax_types"
   ]
  },
  {
   "cell_type": "code",
   "execution_count": 5,
   "id": "4052e95d-ac05-48a1-a9fb-36ed8d8a8aaa",
   "metadata": {},
   "outputs": [
    {
     "data": {
      "text/html": [
       "<div>\n",
       "<style scoped>\n",
       "    .dataframe tbody tr th:only-of-type {\n",
       "        vertical-align: middle;\n",
       "    }\n",
       "\n",
       "    .dataframe tbody tr th {\n",
       "        vertical-align: top;\n",
       "    }\n",
       "\n",
       "    .dataframe thead th {\n",
       "        text-align: right;\n",
       "    }\n",
       "</style>\n",
       "<table border=\"1\" class=\"dataframe\">\n",
       "  <thead>\n",
       "    <tr style=\"text-align: right;\">\n",
       "      <th></th>\n",
       "      <th>VAX_TYPE</th>\n",
       "      <th>COUNT</th>\n",
       "    </tr>\n",
       "  </thead>\n",
       "  <tbody>\n",
       "    <tr>\n",
       "      <th>0</th>\n",
       "      <td>PPV</td>\n",
       "      <td>5471</td>\n",
       "    </tr>\n",
       "    <tr>\n",
       "      <th>1</th>\n",
       "      <td>FLU3</td>\n",
       "      <td>5140</td>\n",
       "    </tr>\n",
       "    <tr>\n",
       "      <th>2</th>\n",
       "      <td>FLU4</td>\n",
       "      <td>4063</td>\n",
       "    </tr>\n",
       "    <tr>\n",
       "      <th>3</th>\n",
       "      <td>VARCEL</td>\n",
       "      <td>3998</td>\n",
       "    </tr>\n",
       "    <tr>\n",
       "      <th>4</th>\n",
       "      <td>PNC13</td>\n",
       "      <td>3956</td>\n",
       "    </tr>\n",
       "    <tr>\n",
       "      <th>5</th>\n",
       "      <td>VARZOS</td>\n",
       "      <td>3821</td>\n",
       "    </tr>\n",
       "    <tr>\n",
       "      <th>6</th>\n",
       "      <td>HPV9</td>\n",
       "      <td>3349</td>\n",
       "    </tr>\n",
       "    <tr>\n",
       "      <th>7</th>\n",
       "      <td>TDAP</td>\n",
       "      <td>2686</td>\n",
       "    </tr>\n",
       "    <tr>\n",
       "      <th>8</th>\n",
       "      <td>MMR</td>\n",
       "      <td>2658</td>\n",
       "    </tr>\n",
       "    <tr>\n",
       "      <th>9</th>\n",
       "      <td>HEPA</td>\n",
       "      <td>2597</td>\n",
       "    </tr>\n",
       "  </tbody>\n",
       "</table>\n",
       "</div>"
      ],
      "text/plain": [
       "  VAX_TYPE  COUNT\n",
       "0      PPV   5471\n",
       "1     FLU3   5140\n",
       "2     FLU4   4063\n",
       "3   VARCEL   3998\n",
       "4    PNC13   3956\n",
       "5   VARZOS   3821\n",
       "6     HPV9   3349\n",
       "7     TDAP   2686\n",
       "8      MMR   2658\n",
       "9     HEPA   2597"
      ]
     },
     "execution_count": 5,
     "metadata": {},
     "output_type": "execute_result"
    }
   ],
   "source": [
    "# Grouping the data by 'VAX_TYPE' and counting occurrences\n",
    "vax16_clean = vaxdf['VAX_TYPE'].value_counts().reset_index()\n",
    "\n",
    "# Renaming columns for clarity\n",
    "vax16_clean.columns = ['VAX_TYPE', 'COUNT']\n",
    "\n",
    "# Display the first 10 rows of the tidy data frame\n",
    "vax16_clean.head(10)"
   ]
  },
  {
   "cell_type": "markdown",
   "id": "6d8201db-fe89-40c6-a14b-b84f57277270",
   "metadata": {},
   "source": [
    "The above code reads in the whole dataframe for the 2016 vaccines into a new variable which counts each instance of the 'VAX_TYPE' and lists them from the most amount of occurences to the least amount. Then it takes that dataframe and creates 2 columns to display the name of the vaccine as well as its count. Lastly, it displays the first 10 within the dataframe. In doing so, it provides the top 'VAX_TYPES' to look at which can be used to better create graphs that are less messy and easier to read."
   ]
  },
  {
   "cell_type": "code",
   "execution_count": 6,
   "id": "c6155d94-5047-4de9-bc67-5417a0a161e5",
   "metadata": {},
   "outputs": [
    {
     "data": {
      "text/html": [
       "<div>\n",
       "<style scoped>\n",
       "    .dataframe tbody tr th:only-of-type {\n",
       "        vertical-align: middle;\n",
       "    }\n",
       "\n",
       "    .dataframe tbody tr th {\n",
       "        vertical-align: top;\n",
       "    }\n",
       "\n",
       "    .dataframe thead th {\n",
       "        text-align: right;\n",
       "    }\n",
       "</style>\n",
       "<table border=\"1\" class=\"dataframe\">\n",
       "  <thead>\n",
       "    <tr style=\"text-align: right;\">\n",
       "      <th></th>\n",
       "      <th>VAX_TYPE</th>\n",
       "      <th>COUNT</th>\n",
       "    </tr>\n",
       "  </thead>\n",
       "  <tbody>\n",
       "    <tr>\n",
       "      <th>0</th>\n",
       "      <td>VARZOS</td>\n",
       "      <td>12758</td>\n",
       "    </tr>\n",
       "    <tr>\n",
       "      <th>1</th>\n",
       "      <td>COVID19</td>\n",
       "      <td>10397</td>\n",
       "    </tr>\n",
       "    <tr>\n",
       "      <th>2</th>\n",
       "      <td>FLU4</td>\n",
       "      <td>6562</td>\n",
       "    </tr>\n",
       "    <tr>\n",
       "      <th>3</th>\n",
       "      <td>PPV</td>\n",
       "      <td>2948</td>\n",
       "    </tr>\n",
       "    <tr>\n",
       "      <th>4</th>\n",
       "      <td>FLUX</td>\n",
       "      <td>2345</td>\n",
       "    </tr>\n",
       "    <tr>\n",
       "      <th>5</th>\n",
       "      <td>UNK</td>\n",
       "      <td>1815</td>\n",
       "    </tr>\n",
       "    <tr>\n",
       "      <th>6</th>\n",
       "      <td>VARCEL</td>\n",
       "      <td>1696</td>\n",
       "    </tr>\n",
       "    <tr>\n",
       "      <th>7</th>\n",
       "      <td>PNC13</td>\n",
       "      <td>1678</td>\n",
       "    </tr>\n",
       "    <tr>\n",
       "      <th>8</th>\n",
       "      <td>HPV9</td>\n",
       "      <td>1571</td>\n",
       "    </tr>\n",
       "    <tr>\n",
       "      <th>9</th>\n",
       "      <td>TDAP</td>\n",
       "      <td>1489</td>\n",
       "    </tr>\n",
       "  </tbody>\n",
       "</table>\n",
       "</div>"
      ],
      "text/plain": [
       "  VAX_TYPE  COUNT\n",
       "0   VARZOS  12758\n",
       "1  COVID19  10397\n",
       "2     FLU4   6562\n",
       "3      PPV   2948\n",
       "4     FLUX   2345\n",
       "5      UNK   1815\n",
       "6   VARCEL   1696\n",
       "7    PNC13   1678\n",
       "8     HPV9   1571\n",
       "9     TDAP   1489"
      ]
     },
     "execution_count": 6,
     "metadata": {},
     "output_type": "execute_result"
    }
   ],
   "source": [
    "#Groups the data by 'VAX_TYPE' and counts their occurences\n",
    "vax20_clean = vaxdf2['VAX_TYPE'].value_counts().reset_index()\n",
    "\n",
    "# Renaming columns for clarity\n",
    "vax20_clean.columns = ['VAX_TYPE', 'COUNT']\n",
    "\n",
    "#Displays the first 10 rows of the new data frame\n",
    "vax20_clean.head(10)"
   ]
  },
  {
   "cell_type": "markdown",
   "id": "eb6a0051-b047-4364-952f-cc4d8ac6441e",
   "metadata": {},
   "source": [
    "The above code reads in the whole dataframe for the 2020 vaccines into a new variable which counts each instance of the 'VAX_TYPE' and lists them from the most amount of occurences to the least amount. Then it takes that dataframe and creates 2 columns to display the name of the vaccine as well as its count. Lastly, it displays the first 10 within the dataframe.In doing so, it provides the top 'VAX_TYPES' to look at which can be used to better create graphs that are less messy and easier to read."
   ]
  },
  {
   "cell_type": "code",
   "execution_count": 7,
   "id": "d681c255-bd36-4902-b715-23459e026069",
   "metadata": {},
   "outputs": [
    {
     "data": {
      "image/png": "[encoded data removed]",
      "text/plain": [
       "<Figure size 640x480 with 1 Axes>"
      ]
     },
     "metadata": {},
     "output_type": "display_data"
    }
   ],
   "source": [
    "plt.style.use('dark_background') #Changes the color theme of the graph to be easier to look at\n",
    "\n",
    "fig2, ax2 = plt.subplots()\n",
    "ax2.scatter(vax16_clean['COUNT'].iloc[:20], vax16_clean['VAX_TYPE'].iloc[:20])\n",
    "ax2.scatter(vax20_clean['COUNT'].iloc[:20], vax20_clean['VAX_TYPE'].iloc[:20])\n",
    "\n",
    "\n",
    "ax2.set_xlabel( \"Vaccine Count\", family= \"monospace\")\n",
    "ax2.set_ylabel( \"Vaccine Names\", family= \"monospace\" )\n",
    "ax2.set_title (\"Comparing Vaccine Acceptance from 2016 & 2020\", family= \"monospace\")\n",
    "ax2.legend([\"Vaccines From 2016\" ,\"Vaccines From 2020\"])\n",
    "\n",
    "plt.show()"
   ]
  },
  {
   "cell_type": "markdown",
   "id": "03e1e9ba-5f1d-4e5f-92f9-df210617d21a",
   "metadata": {},
   "source": [
    "The above scatter plot combines both the 2016 and 2020 vaccination data to show how the data overlaps and how each vaccine from 2020 compares to those from 2016. Using the matplotlib library, I read in the cleaned up version of the both the 2016 and 2020 dataset into their own scatter plots. Then, I used the '.iloc' property to limit the data to show only the top 20 vaccines in each dataset to have a cleaner table. Lastly, I added the labels for both the x and y-axis, a title to clarify what the table represetns, and a legend so that the data can be easily viewed and recognised. "
   ]
  },
  {
   "cell_type": "markdown",
   "id": "6b5a4aab-9b04-4727-ae9d-6001585476f3",
   "metadata": {},
   "source": [
    "After analyzing the above graph as well as the data sets in their messy entirety, there is somewhat of a correlation between the two datasets. To start, in the 2016 vaccination dataset, there is more consistancy among the vaccines with their count with there data points almost making a straight line. The top 3 vaccines with the most accounts being PPV at 5471, FLU3 at 5140, FLU4 at 4063. However, looking 4 years into the future, the 2020 data set is quite different. For the 2020 dataset based off of the scatter plot above, the data shows that there is less correlation between vaccines with a couple of outliers with the most accounts. These being VARZOS at 12758, COVID19 at 10397, and FLU4 at 6562. Through this data, we can clearly see that there are more people getting vaccines of a specific type with the top 2 having way almost double the accounts as the third vaccine. However, even with there being higher accounts of people getting these vaccinations, these are really the only three that stand out compared the their 2019 counterparts since the majority of thsoe have higher accounts back in 2016 than four years later in 2020. //\n",
    "\n",
    "I believe that my hypothesis can be proven true but it would need more research into later years where more data can be gathered about the change in vaccinations and if the top vaccinations have changed over time and if they have more people getting these vaccinations. One thing can be certain from the scatter plot and that is that when a higher amount of people get one vaccination, some other vaccinations can fall behind. With new diseases needing new vaccinations, it is safe to say that while these more recent vaccines might be ahead of their counterparts, more modern vaccinations might take their place in the coming years with more people needing them due to new illnesses."
   ]
  }
 ],
 "metadata": {
  "kernelspec": {
   "display_name": "Python 3 (ipykernel)",
   "language": "python",
   "name": "python3"
  },
  "language_info": {
   "codemirror_mode": {
    "name": "ipython",
    "version": 3
   },
   "file_extension": ".py",
   "mimetype": "text/x-python",
   "name": "python",
   "nbconvert_exporter": "python",
   "pygments_lexer": "ipython3",
   "version": "3.12.4"
  }
 },
 "nbformat": 4,
 "nbformat_minor": 5
}
