{
 "cells": [
  {
   "cell_type": "markdown",
   "id": "1ca38d68-8e6a-47aa-a406-2e9ce1467369",
   "metadata": {},
   "source": [
    "Jonathan Szoke\n",
    "11/12/2024\n",
    "Data In Emerging Media and Technology\n",
    "Hypothesis: Since the beginning of COVID-19, there have been an increased turnout for vaccines than before COVID-19"
   ]
  },
  {
   "cell_type": "code",
   "execution_count": 20,
   "id": "988dc6c6-f20d-48cd-b892-1ba34262746b",
   "metadata": {},
   "outputs": [],
   "source": [
    "from matplotlib import pyplot as plt\n",
    "import pandas as pd\n",
    "import json"
   ]
  },
  {
   "cell_type": "markdown",
   "id": "959ba69f-5ff4-4929-97b1-704a99bc7270",
   "metadata": {},
   "source": [
    "Imports every library needed"
   ]
  },
  {
   "cell_type": "code",
   "execution_count": 39,
   "id": "f8173d61-5fca-4b05-8435-9fe809ec1db3",
   "metadata": {},
   "outputs": [],
   "source": [
    "vax16 = pd.read_csv('2016VAERSVAX.csv')\n",
    "vax20 = pd.read_csv('2020VAERSVAX.csv')"
   ]
  },
  {
   "cell_type": "markdown",
   "id": "4b4eb823-4c2f-40c1-b094-c9a2bede1af3",
   "metadata": {},
   "source": [
    "Takes the csv files directly from the VAERS, the Vaccine Adverse Event Reporting System, database which is co-operated by the CDC and assigns them to variables that can be easily used. "
   ]
  },
  {
   "cell_type": "code",
   "execution_count": 40,
   "id": "8fc2e37f-6b8e-4355-b649-e7377acd4e9e",
   "metadata": {},
   "outputs": [
    {
     "data": {
      "text/html": [
       "<div>\n",
       "<style scoped>\n",
       "    .dataframe tbody tr th:only-of-type {\n",
       "        vertical-align: middle;\n",
       "    }\n",
       "\n",
       "    .dataframe tbody tr th {\n",
       "        vertical-align: top;\n",
       "    }\n",
       "\n",
       "    .dataframe thead th {\n",
       "        text-align: right;\n",
       "    }\n",
       "</style>\n",
       "<table border=\"1\" class=\"dataframe\">\n",
       "  <thead>\n",
       "    <tr style=\"text-align: right;\">\n",
       "      <th></th>\n",
       "      <th>VAX_TYPE</th>\n",
       "    </tr>\n",
       "  </thead>\n",
       "  <tbody>\n",
       "    <tr>\n",
       "      <th>0</th>\n",
       "      <td>FLU3</td>\n",
       "    </tr>\n",
       "    <tr>\n",
       "      <th>1</th>\n",
       "      <td>FLU4</td>\n",
       "    </tr>\n",
       "    <tr>\n",
       "      <th>2</th>\n",
       "      <td>PPV</td>\n",
       "    </tr>\n",
       "    <tr>\n",
       "      <th>3</th>\n",
       "      <td>FLU3</td>\n",
       "    </tr>\n",
       "    <tr>\n",
       "      <th>4</th>\n",
       "      <td>MMR</td>\n",
       "    </tr>\n",
       "    <tr>\n",
       "      <th>...</th>\n",
       "      <td>...</td>\n",
       "    </tr>\n",
       "    <tr>\n",
       "      <th>60442</th>\n",
       "      <td>MNQ</td>\n",
       "    </tr>\n",
       "    <tr>\n",
       "      <th>60443</th>\n",
       "      <td>TDAP</td>\n",
       "    </tr>\n",
       "    <tr>\n",
       "      <th>60444</th>\n",
       "      <td>MMR</td>\n",
       "    </tr>\n",
       "    <tr>\n",
       "      <th>60445</th>\n",
       "      <td>MNQ</td>\n",
       "    </tr>\n",
       "    <tr>\n",
       "      <th>60446</th>\n",
       "      <td>VARZOS</td>\n",
       "    </tr>\n",
       "  </tbody>\n",
       "</table>\n",
       "<p>60447 rows × 1 columns</p>\n",
       "</div>"
      ],
      "text/plain": [
       "      VAX_TYPE\n",
       "0         FLU3\n",
       "1         FLU4\n",
       "2          PPV\n",
       "3         FLU3\n",
       "4          MMR\n",
       "...        ...\n",
       "60442      MNQ\n",
       "60443     TDAP\n",
       "60444      MMR\n",
       "60445      MNQ\n",
       "60446   VARZOS\n",
       "\n",
       "[60447 rows x 1 columns]"
      ]
     },
     "execution_count": 40,
     "metadata": {},
     "output_type": "execute_result"
    }
   ],
   "source": [
    "vaxdf = pd.DataFrame(vax16['VAX_TYPE'])\n",
    "\n",
    "vaxdf"
   ]
  },
  {
   "cell_type": "markdown",
   "id": "1948a407-71d9-42e0-a26c-be84da4ae1c6",
   "metadata": {},
   "source": [
    "Takes the data from the 2016 csv file and turns it into a data frame with all of the vax_types"
   ]
  },
  {
   "cell_type": "code",
   "execution_count": 42,
   "id": "db8d9eb6-2a3e-4675-8a7d-ed4bcfb921fc",
   "metadata": {},
   "outputs": [
    {
     "data": {
      "text/html": [
       "<div>\n",
       "<style scoped>\n",
       "    .dataframe tbody tr th:only-of-type {\n",
       "        vertical-align: middle;\n",
       "    }\n",
       "\n",
       "    .dataframe tbody tr th {\n",
       "        vertical-align: top;\n",
       "    }\n",
       "\n",
       "    .dataframe thead th {\n",
       "        text-align: right;\n",
       "    }\n",
       "</style>\n",
       "<table border=\"1\" class=\"dataframe\">\n",
       "  <thead>\n",
       "    <tr style=\"text-align: right;\">\n",
       "      <th></th>\n",
       "      <th>VAX_TYPE</th>\n",
       "    </tr>\n",
       "  </thead>\n",
       "  <tbody>\n",
       "    <tr>\n",
       "      <th>0</th>\n",
       "      <td>VARZOS</td>\n",
       "    </tr>\n",
       "    <tr>\n",
       "      <th>1</th>\n",
       "      <td>UNK</td>\n",
       "    </tr>\n",
       "    <tr>\n",
       "      <th>2</th>\n",
       "      <td>VARZOS</td>\n",
       "    </tr>\n",
       "    <tr>\n",
       "      <th>3</th>\n",
       "      <td>VARZOS</td>\n",
       "    </tr>\n",
       "    <tr>\n",
       "      <th>4</th>\n",
       "      <td>VARZOS</td>\n",
       "    </tr>\n",
       "    <tr>\n",
       "      <th>...</th>\n",
       "      <td>...</td>\n",
       "    </tr>\n",
       "    <tr>\n",
       "      <th>59697</th>\n",
       "      <td>FLUR4</td>\n",
       "    </tr>\n",
       "    <tr>\n",
       "      <th>59698</th>\n",
       "      <td>FLUX</td>\n",
       "    </tr>\n",
       "    <tr>\n",
       "      <th>59699</th>\n",
       "      <td>HEP</td>\n",
       "    </tr>\n",
       "    <tr>\n",
       "      <th>59700</th>\n",
       "      <td>FLUX</td>\n",
       "    </tr>\n",
       "    <tr>\n",
       "      <th>59701</th>\n",
       "      <td>PPV</td>\n",
       "    </tr>\n",
       "  </tbody>\n",
       "</table>\n",
       "<p>59702 rows × 1 columns</p>\n",
       "</div>"
      ],
      "text/plain": [
       "      VAX_TYPE\n",
       "0       VARZOS\n",
       "1          UNK\n",
       "2       VARZOS\n",
       "3       VARZOS\n",
       "4       VARZOS\n",
       "...        ...\n",
       "59697    FLUR4\n",
       "59698     FLUX\n",
       "59699      HEP\n",
       "59700     FLUX\n",
       "59701      PPV\n",
       "\n",
       "[59702 rows x 1 columns]"
      ]
     },
     "execution_count": 42,
     "metadata": {},
     "output_type": "execute_result"
    }
   ],
   "source": [
    "vaxdf2 = pd.DataFrame(vax20['VAX_TYPE'])\n",
    "\n",
    "vaxdf2"
   ]
  },
  {
   "cell_type": "markdown",
   "id": "17c899ee-42e5-404f-80c9-0305c343abe5",
   "metadata": {},
   "source": [
    "Takes the data from the 2020 csv file and turns it into a data frame with all of the vax_types"
   ]
  },
  {
   "cell_type": "code",
   "execution_count": 54,
   "id": "4052e95d-ac05-48a1-a9fb-36ed8d8a8aaa",
   "metadata": {},
   "outputs": [
    {
     "data": {
      "text/html": [
       "<div>\n",
       "<style scoped>\n",
       "    .dataframe tbody tr th:only-of-type {\n",
       "        vertical-align: middle;\n",
       "    }\n",
       "\n",
       "    .dataframe tbody tr th {\n",
       "        vertical-align: top;\n",
       "    }\n",
       "\n",
       "    .dataframe thead th {\n",
       "        text-align: right;\n",
       "    }\n",
       "</style>\n",
       "<table border=\"1\" class=\"dataframe\">\n",
       "  <thead>\n",
       "    <tr style=\"text-align: right;\">\n",
       "      <th></th>\n",
       "      <th>VAX_TYPE</th>\n",
       "      <th>COUNT</th>\n",
       "    </tr>\n",
       "  </thead>\n",
       "  <tbody>\n",
       "    <tr>\n",
       "      <th>0</th>\n",
       "      <td>PPV</td>\n",
       "      <td>5471</td>\n",
       "    </tr>\n",
       "    <tr>\n",
       "      <th>1</th>\n",
       "      <td>FLU3</td>\n",
       "      <td>5140</td>\n",
       "    </tr>\n",
       "    <tr>\n",
       "      <th>2</th>\n",
       "      <td>FLU4</td>\n",
       "      <td>4063</td>\n",
       "    </tr>\n",
       "    <tr>\n",
       "      <th>3</th>\n",
       "      <td>VARCEL</td>\n",
       "      <td>3998</td>\n",
       "    </tr>\n",
       "    <tr>\n",
       "      <th>4</th>\n",
       "      <td>PNC13</td>\n",
       "      <td>3956</td>\n",
       "    </tr>\n",
       "  </tbody>\n",
       "</table>\n",
       "</div>"
      ],
      "text/plain": [
       "  VAX_TYPE  COUNT\n",
       "0      PPV   5471\n",
       "1     FLU3   5140\n",
       "2     FLU4   4063\n",
       "3   VARCEL   3998\n",
       "4    PNC13   3956"
      ]
     },
     "execution_count": 54,
     "metadata": {},
     "output_type": "execute_result"
    }
   ],
   "source": [
    "# Grouping the data by 'VAX_TYPE' and counting occurrences\n",
    "vax16_clean = vaxdf['VAX_TYPE'].value_counts().reset_index()\n",
    "\n",
    "# Renaming columns for clarity\n",
    "vax16_clean.columns = ['VAX_TYPE', 'COUNT']\n",
    "\n",
    "# Display the first few rows of the tidy data frame\n",
    "vax16_clean.head()"
   ]
  },
  {
   "cell_type": "markdown",
   "id": "4cd0645c-0ded-4f17-b50d-3edd31681a32",
   "metadata": {},
   "source": [
    "Uses the 2016 vaxdf dataframe and creates a cleaner data frame that starts with the most distributed vaccine and displays the top 5"
   ]
  },
  {
   "cell_type": "code",
   "execution_count": 52,
   "id": "c6155d94-5047-4de9-bc67-5417a0a161e5",
   "metadata": {},
   "outputs": [
    {
     "data": {
      "text/html": [
       "<div>\n",
       "<style scoped>\n",
       "    .dataframe tbody tr th:only-of-type {\n",
       "        vertical-align: middle;\n",
       "    }\n",
       "\n",
       "    .dataframe tbody tr th {\n",
       "        vertical-align: top;\n",
       "    }\n",
       "\n",
       "    .dataframe thead th {\n",
       "        text-align: right;\n",
       "    }\n",
       "</style>\n",
       "<table border=\"1\" class=\"dataframe\">\n",
       "  <thead>\n",
       "    <tr style=\"text-align: right;\">\n",
       "      <th></th>\n",
       "      <th>VAX_TYPE</th>\n",
       "      <th>COUNT</th>\n",
       "    </tr>\n",
       "  </thead>\n",
       "  <tbody>\n",
       "    <tr>\n",
       "      <th>0</th>\n",
       "      <td>VARZOS</td>\n",
       "      <td>12758</td>\n",
       "    </tr>\n",
       "    <tr>\n",
       "      <th>1</th>\n",
       "      <td>COVID19</td>\n",
       "      <td>10397</td>\n",
       "    </tr>\n",
       "    <tr>\n",
       "      <th>2</th>\n",
       "      <td>FLU4</td>\n",
       "      <td>6562</td>\n",
       "    </tr>\n",
       "    <tr>\n",
       "      <th>3</th>\n",
       "      <td>PPV</td>\n",
       "      <td>2948</td>\n",
       "    </tr>\n",
       "    <tr>\n",
       "      <th>4</th>\n",
       "      <td>FLUX</td>\n",
       "      <td>2345</td>\n",
       "    </tr>\n",
       "  </tbody>\n",
       "</table>\n",
       "</div>"
      ],
      "text/plain": [
       "  VAX_TYPE  COUNT\n",
       "0   VARZOS  12758\n",
       "1  COVID19  10397\n",
       "2     FLU4   6562\n",
       "3      PPV   2948\n",
       "4     FLUX   2345"
      ]
     },
     "execution_count": 52,
     "metadata": {},
     "output_type": "execute_result"
    }
   ],
   "source": [
    "vax20_clean = vaxdf2['VAX_TYPE'].value_counts().reset_index()\n",
    "\n",
    "# Renaming columns for clarity\n",
    "vax20_clean.columns = ['VAX_TYPE', 'COUNT']\n",
    "\n",
    "vax20_clean.head()"
   ]
  },
  {
   "cell_type": "markdown",
   "id": "90fa8536-d3a2-48e0-b294-da00723b8c95",
   "metadata": {},
   "source": [
    "Uses the 2020 vaxdf dataframe and creates a cleaner data frame that starts with the most distributed vaccine and displays the top 5"
   ]
  },
  {
   "cell_type": "code",
   "execution_count": 61,
   "id": "d681c255-bd36-4902-b715-23459e026069",
   "metadata": {},
   "outputs": [
    {
     "data": {
      "image/png": "[encoded data removed]",
      "text/plain": [
       "<Figure size 640x480 with 1 Axes>"
      ]
     },
     "metadata": {},
     "output_type": "display_data"
    }
   ],
   "source": [
    "fig2, ax2 = plt.subplots()\n",
    "ax2.scatter(vax16_clean['COUNT'], vax16_clean['VAX_TYPE'])\n",
    "ax2.scatter(vax20_clean['COUNT'], vax20_clean['VAX_TYPE'])\n",
    "plt.show()"
   ]
  }
 ],
 "metadata": {
  "kernelspec": {
   "display_name": "Python 3 (ipykernel)",
   "language": "python",
   "name": "python3"
  },
  "language_info": {
   "codemirror_mode": {
    "name": "ipython",
    "version": 3
   },
   "file_extension": ".py",
   "mimetype": "text/x-python",
   "name": "python",
   "nbconvert_exporter": "python",
   "pygments_lexer": "ipython3",
   "version": "3.12.4"
  }
 },
 "nbformat": 4,
 "nbformat_minor": 5
}
